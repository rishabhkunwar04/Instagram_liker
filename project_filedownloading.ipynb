{
 "cells": [
  {
   "cell_type": "code",
   "execution_count": null,
   "metadata": {},
   "outputs": [],
   "source": [
    "#FILE DOWNLOADING SYS"
   ]
  },
  {
   "cell_type": "code",
   "execution_count": 5,
   "metadata": {},
   "outputs": [],
   "source": [
    "url = 'http://www.africau.edu/images/default/sample.pdf'\n"
   ]
  },
  {
   "cell_type": "code",
   "execution_count": 8,
   "metadata": {},
   "outputs": [
    {
     "name": "stderr",
     "output_type": "stream",
     "text": [
      "100%|████████████████████████████████████████████████████████████████████████████████████| 4/4 [00:02<00:00,  1.94it/s]\n"
     ]
    }
   ],
   "source": [
    "import requests\n",
    "import math\n",
    "import time\n",
    "from tqdm import tqdm\n",
    "\n",
    "chunk_size=256#for iterating no of times\n",
    "\n",
    "r = requests.get(url, stream=True) # will not get data at once, will get data one by one\n",
    "\n",
    "s = int(r.headers['Content-Length'])\n",
    "\n",
    "n=math.ceil(s/chunk_size)\n",
    "\n",
    "#file handling\n",
    "\n",
    "with open(\"file.pdf\", \"wb\") as file:\n",
    "    for chunk in tqdm(r.iter_content(chunk_size=chunk_size), total=n):\n",
    "        time.sleep(0.5)\n",
    "        file.write(chunk)\n",
    "\n"
   ]
  },
  {
   "cell_type": "code",
   "execution_count": null,
   "metadata": {},
   "outputs": [],
   "source": []
  }
 ],
 "metadata": {
  "kernelspec": {
   "display_name": "Python 3",
   "language": "python",
   "name": "python3"
  },
  "language_info": {
   "codemirror_mode": {
    "name": "ipython",
    "version": 3
   },
   "file_extension": ".py",
   "mimetype": "text/x-python",
   "name": "python",
   "nbconvert_exporter": "python",
   "pygments_lexer": "ipython3",
   "version": "3.7.4"
  }
 },
 "nbformat": 4,
 "nbformat_minor": 2
}
